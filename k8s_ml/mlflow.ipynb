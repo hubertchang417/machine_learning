{
 "cells": [
  {
   "cell_type": "code",
   "execution_count": 1,
   "id": "2f25b33a-6b16-4111-a7e7-47fed8aea4f9",
   "metadata": {
    "collapsed": true,
    "jupyter": {
     "outputs_hidden": true
    },
    "tags": []
   },
   "outputs": [
    {
     "name": "stdout",
     "output_type": "stream",
     "text": [
      "Collecting mlflow\n",
      "  Downloading mlflow-2.6.0-py3-none-any.whl (18.3 MB)\n",
      "\u001b[2K     \u001b[90m━━━━━━━━━━━━━━━━━━━━━━━━━━━━━━━━━━━━━━━━\u001b[0m \u001b[32m18.3/18.3 MB\u001b[0m \u001b[31m3.3 MB/s\u001b[0m eta \u001b[36m0:00:00\u001b[0m:00:01\u001b[0m00:01\u001b[0m\n",
      "\u001b[?25hRequirement already satisfied: pyyaml<7,>=5.1 in /opt/conda/lib/python3.10/site-packages (from mlflow) (6.0)\n",
      "Collecting Flask<3\n",
      "  Downloading flask-2.3.3-py3-none-any.whl (96 kB)\n",
      "\u001b[2K     \u001b[90m━━━━━━━━━━━━━━━━━━━━━━━━━━━━━━━━━━━━━━━━\u001b[0m \u001b[32m96.1/96.1 kB\u001b[0m \u001b[31m48.6 kB/s\u001b[0m eta \u001b[36m0:00:00\u001b[0ma \u001b[36m0:00:01\u001b[0m\n",
      "\u001b[?25hCollecting gunicorn<22\n",
      "  Downloading gunicorn-21.2.0-py3-none-any.whl (80 kB)\n",
      "\u001b[2K     \u001b[90m━━━━━━━━━━━━━━━━━━━━━━━━━━━━━━━━━━━━━━━━\u001b[0m \u001b[32m80.2/80.2 kB\u001b[0m \u001b[31m78.5 kB/s\u001b[0m eta \u001b[36m0:00:00\u001b[0ma \u001b[36m0:00:01\u001b[0m\n",
      "\u001b[?25hCollecting databricks-cli<1,>=0.8.7\n",
      "  Downloading databricks-cli-0.17.7.tar.gz (83 kB)\n",
      "\u001b[2K     \u001b[90m━━━━━━━━━━━━━━━━━━━━━━━━━━━━━━━━━━━━━━━━\u001b[0m \u001b[32m83.5/83.5 kB\u001b[0m \u001b[31m53.6 kB/s\u001b[0m eta \u001b[36m0:00:00\u001b[0m0:01\u001b[0m\n",
      "\u001b[?25h  Preparing metadata (setup.py) ... \u001b[?25ldone\n",
      "\u001b[?25hRequirement already satisfied: importlib-metadata!=4.7.0,<7,>=3.7.0 in /opt/conda/lib/python3.10/site-packages (from mlflow) (6.1.0)\n",
      "Collecting sqlparse<1,>=0.4.0\n",
      "  Downloading sqlparse-0.4.4-py3-none-any.whl (41 kB)\n",
      "\u001b[2K     \u001b[90m━━━━━━━━━━━━━━━━━━━━━━━━━━━━━━━━━━━━━━━━\u001b[0m \u001b[32m41.2/41.2 kB\u001b[0m \u001b[31m21.8 kB/s\u001b[0m eta \u001b[36m0:00:00\u001b[0m00:01\u001b[0m\n",
      "\u001b[?25hRequirement already satisfied: pytz<2024 in /opt/conda/lib/python3.10/site-packages (from mlflow) (2023.3)\n",
      "Requirement already satisfied: matplotlib<4 in /opt/conda/lib/python3.10/site-packages (from mlflow) (3.7.1)\n",
      "Requirement already satisfied: scikit-learn<2 in /opt/conda/lib/python3.10/site-packages (from mlflow) (1.2.2)\n",
      "Requirement already satisfied: sqlalchemy<3,>=1.4.0 in /opt/conda/lib/python3.10/site-packages (from mlflow) (2.0.8)\n",
      "Requirement already satisfied: scipy<2 in /opt/conda/lib/python3.10/site-packages (from mlflow) (1.10.1)\n",
      "Collecting docker<7,>=4.0.0\n",
      "  Downloading docker-6.1.3-py3-none-any.whl (148 kB)\n",
      "\u001b[2K     \u001b[90m━━━━━━━━━━━━━━━━━━━━━━━━━━━━━━━━━━━━━━\u001b[0m \u001b[32m148.1/148.1 kB\u001b[0m \u001b[31m92.5 kB/s\u001b[0m eta \u001b[36m0:00:00\u001b[0ma \u001b[36m0:00:01\u001b[0m\n",
      "\u001b[?25hRequirement already satisfied: markdown<4,>=3.3 in /opt/conda/lib/python3.10/site-packages (from mlflow) (3.4.3)\n",
      "Collecting querystring-parser<2\n",
      "  Downloading querystring_parser-1.2.4-py2.py3-none-any.whl (7.9 kB)\n",
      "Requirement already satisfied: cloudpickle<3 in /opt/conda/lib/python3.10/site-packages (from mlflow) (2.2.1)\n",
      "Requirement already satisfied: click<9,>=7.0 in /opt/conda/lib/python3.10/site-packages (from mlflow) (8.1.3)\n",
      "Collecting pyarrow<13,>=4.0.0\n",
      "  Downloading pyarrow-12.0.1-cp310-cp310-manylinux_2_17_x86_64.manylinux2014_x86_64.whl (38.9 MB)\n",
      "\u001b[2K     \u001b[90m━━━━━━━━━━━━━━━━━━━━━━━━━━━━━━━━━━━━━━━━\u001b[0m \u001b[32m38.9/38.9 MB\u001b[0m \u001b[31m1.8 MB/s\u001b[0m eta \u001b[36m0:00:00\u001b[0m:00:01\u001b[0m00:01\u001b[0m\n",
      "\u001b[?25hRequirement already satisfied: Jinja2<4,>=2.11 in /opt/conda/lib/python3.10/site-packages (from mlflow) (3.1.2)\n",
      "Requirement already satisfied: entrypoints<1 in /opt/conda/lib/python3.10/site-packages (from mlflow) (0.4)\n",
      "Requirement already satisfied: alembic!=1.10.0,<2 in /opt/conda/lib/python3.10/site-packages (from mlflow) (1.10.2)\n",
      "Requirement already satisfied: pandas<3 in /opt/conda/lib/python3.10/site-packages (from mlflow) (2.0.0)\n",
      "Requirement already satisfied: requests<3,>=2.17.3 in /opt/conda/lib/python3.10/site-packages (from mlflow) (2.28.2)\n",
      "Requirement already satisfied: packaging<24 in /opt/conda/lib/python3.10/site-packages (from mlflow) (23.0)\n",
      "Requirement already satisfied: numpy<2 in /opt/conda/lib/python3.10/site-packages (from mlflow) (1.23.5)\n",
      "Requirement already satisfied: gitpython<4,>=2.1.0 in /opt/conda/lib/python3.10/site-packages (from mlflow) (3.1.31)\n",
      "Requirement already satisfied: protobuf<5,>=3.12.0 in /opt/conda/lib/python3.10/site-packages (from mlflow) (3.19.6)\n",
      "Requirement already satisfied: typing-extensions>=4 in /opt/conda/lib/python3.10/site-packages (from alembic!=1.10.0,<2->mlflow) (4.5.0)\n",
      "Requirement already satisfied: Mako in /opt/conda/lib/python3.10/site-packages (from alembic!=1.10.0,<2->mlflow) (1.2.4)\n",
      "Requirement already satisfied: pyjwt>=1.7.0 in /opt/conda/lib/python3.10/site-packages (from databricks-cli<1,>=0.8.7->mlflow) (2.6.0)\n",
      "Requirement already satisfied: oauthlib>=3.1.0 in /opt/conda/lib/python3.10/site-packages (from databricks-cli<1,>=0.8.7->mlflow) (3.2.2)\n",
      "Collecting tabulate>=0.7.7\n",
      "  Downloading tabulate-0.9.0-py3-none-any.whl (35 kB)\n",
      "Requirement already satisfied: six>=1.10.0 in /opt/conda/lib/python3.10/site-packages (from databricks-cli<1,>=0.8.7->mlflow) (1.16.0)\n",
      "Requirement already satisfied: urllib3<2.0.0,>=1.26.7 in /opt/conda/lib/python3.10/site-packages (from databricks-cli<1,>=0.8.7->mlflow) (1.26.15)\n",
      "Requirement already satisfied: websocket-client>=0.32.0 in /opt/conda/lib/python3.10/site-packages (from docker<7,>=4.0.0->mlflow) (1.5.1)\n",
      "Collecting blinker>=1.6.2\n",
      "  Downloading blinker-1.6.2-py3-none-any.whl (13 kB)\n",
      "Collecting itsdangerous>=2.1.2\n",
      "  Downloading itsdangerous-2.1.2-py3-none-any.whl (15 kB)\n",
      "Collecting Werkzeug>=2.3.7\n",
      "  Downloading werkzeug-2.3.7-py3-none-any.whl (242 kB)\n",
      "\u001b[2K     \u001b[90m━━━━━━━━━━━━━━━━━━━━━━━━━━━━━━━━━━━━━\u001b[0m \u001b[32m242.2/242.2 kB\u001b[0m \u001b[31m159.7 kB/s\u001b[0m eta \u001b[36m0:00:00\u001b[0ma \u001b[36m0:00:01\u001b[0m\n",
      "\u001b[?25hRequirement already satisfied: gitdb<5,>=4.0.1 in /opt/conda/lib/python3.10/site-packages (from gitpython<4,>=2.1.0->mlflow) (4.0.10)\n",
      "Requirement already satisfied: zipp>=0.5 in /opt/conda/lib/python3.10/site-packages (from importlib-metadata!=4.7.0,<7,>=3.7.0->mlflow) (3.15.0)\n",
      "Requirement already satisfied: MarkupSafe>=2.0 in /opt/conda/lib/python3.10/site-packages (from Jinja2<4,>=2.11->mlflow) (2.1.2)\n",
      "Requirement already satisfied: cycler>=0.10 in /opt/conda/lib/python3.10/site-packages (from matplotlib<4->mlflow) (0.11.0)\n",
      "Requirement already satisfied: pillow>=6.2.0 in /opt/conda/lib/python3.10/site-packages (from matplotlib<4->mlflow) (9.4.0)\n",
      "Requirement already satisfied: pyparsing>=2.3.1 in /opt/conda/lib/python3.10/site-packages (from matplotlib<4->mlflow) (3.0.9)\n",
      "Requirement already satisfied: contourpy>=1.0.1 in /opt/conda/lib/python3.10/site-packages (from matplotlib<4->mlflow) (1.0.7)\n",
      "Requirement already satisfied: fonttools>=4.22.0 in /opt/conda/lib/python3.10/site-packages (from matplotlib<4->mlflow) (4.39.3)\n",
      "Requirement already satisfied: kiwisolver>=1.0.1 in /opt/conda/lib/python3.10/site-packages (from matplotlib<4->mlflow) (1.4.4)\n",
      "Requirement already satisfied: python-dateutil>=2.7 in /opt/conda/lib/python3.10/site-packages (from matplotlib<4->mlflow) (2.8.2)\n",
      "Requirement already satisfied: tzdata>=2022.1 in /opt/conda/lib/python3.10/site-packages (from pandas<3->mlflow) (2023.3)\n",
      "Requirement already satisfied: charset-normalizer<4,>=2 in /opt/conda/lib/python3.10/site-packages (from requests<3,>=2.17.3->mlflow) (3.1.0)\n",
      "Requirement already satisfied: idna<4,>=2.5 in /opt/conda/lib/python3.10/site-packages (from requests<3,>=2.17.3->mlflow) (3.4)\n",
      "Requirement already satisfied: certifi>=2017.4.17 in /opt/conda/lib/python3.10/site-packages (from requests<3,>=2.17.3->mlflow) (2022.12.7)\n",
      "Requirement already satisfied: threadpoolctl>=2.0.0 in /opt/conda/lib/python3.10/site-packages (from scikit-learn<2->mlflow) (3.1.0)\n",
      "Requirement already satisfied: joblib>=1.1.1 in /opt/conda/lib/python3.10/site-packages (from scikit-learn<2->mlflow) (1.2.0)\n",
      "Requirement already satisfied: greenlet!=0.4.17 in /opt/conda/lib/python3.10/site-packages (from sqlalchemy<3,>=1.4.0->mlflow) (2.0.2)\n",
      "Requirement already satisfied: smmap<6,>=3.0.1 in /opt/conda/lib/python3.10/site-packages (from gitdb<5,>=4.0.1->gitpython<4,>=2.1.0->mlflow) (5.0.0)\n",
      "Building wheels for collected packages: databricks-cli\n",
      "  Building wheel for databricks-cli (setup.py) ... \u001b[?25ldone\n",
      "\u001b[?25h  Created wheel for databricks-cli: filename=databricks_cli-0.17.7-py3-none-any.whl size=143860 sha256=e2886580b63b899279c854b935df51c0714f3d9cfb6cf5dd3a9f2a25b526a55d\n",
      "  Stored in directory: /home/jovyan/.cache/pip/wheels/ae/63/93/5402c1a09c1868a59d0b05013484e07af97a9d7b3dbd5bd39a\n",
      "Successfully built databricks-cli\n",
      "Installing collected packages: Werkzeug, tabulate, sqlparse, querystring-parser, pyarrow, itsdangerous, gunicorn, blinker, Flask, docker, databricks-cli, mlflow\n",
      "  Attempting uninstall: Werkzeug\n",
      "    Found existing installation: Werkzeug 2.2.3\n",
      "    Uninstalling Werkzeug-2.2.3:\n",
      "      Successfully uninstalled Werkzeug-2.2.3\n",
      "  Attempting uninstall: blinker\n",
      "    Found existing installation: blinker 1.5\n",
      "    Uninstalling blinker-1.5:\n",
      "      Successfully uninstalled blinker-1.5\n",
      "Successfully installed Flask-2.3.3 Werkzeug-2.3.7 blinker-1.6.2 databricks-cli-0.17.7 docker-6.1.3 gunicorn-21.2.0 itsdangerous-2.1.2 mlflow-2.6.0 pyarrow-12.0.1 querystring-parser-1.2.4 sqlparse-0.4.4 tabulate-0.9.0\n"
     ]
    }
   ],
   "source": [
    "! pip install mlflow"
   ]
  },
  {
   "cell_type": "code",
   "execution_count": 4,
   "id": "869fe45b-cc92-4db8-b399-1f81e5c89362",
   "metadata": {
    "tags": []
   },
   "outputs": [],
   "source": [
    "import mlflow\n",
    "import mlflow.pytorch\n",
    "import torch\n",
    "import torch.nn as nn\n",
    "import torch.nn.functional as F\n",
    "import torch.optim as optim\n",
    "from torch.utils import data\n",
    "from torch.optim import lr_scheduler\n",
    "import torchvision\n",
    "import torchvision.transforms as transforms\n",
    "from sklearn.model_selection import train_test_split\n",
    "from tqdm import tqdm\n",
    "from matplotlib import pyplot as plt\n",
    "import numpy as np"
   ]
  },
  {
   "cell_type": "code",
   "execution_count": 5,
   "id": "1dd70abf-759b-4360-bd93-b3e24842e55e",
   "metadata": {
    "tags": []
   },
   "outputs": [],
   "source": [
    "# CNN Model\n",
    "class net(nn.Module):\n",
    "    def __init__(self):\n",
    "        super(net, self).__init__()\n",
    "        self.conv1 = nn.Conv2d(3, 6, 5)\n",
    "        self.bn1 = nn.BatchNorm2d(6)\n",
    "        self.conv2 = nn.Conv2d(6, 16, 5)\n",
    "        self.bn2 = nn.BatchNorm2d(16)\n",
    "        self.pool = nn.MaxPool2d(2, 2)\n",
    "        self.fc1 = nn.Linear(16*5*5, 128)\n",
    "        self.fc2 = nn.Linear(128, 64)     \n",
    "        self.fc3 = nn.Linear(64, 10)\n",
    "        self.dropout=nn.Dropout(0.1)\n",
    "    def forward(self, x):\n",
    "        out = self.conv1(x)\n",
    "        out = self.pool(F.relu(self.bn1(out)))\n",
    "        out = self.conv2(out)\n",
    "        out = self.pool(F.relu(self.bn2(out)))\n",
    "        out = torch.flatten(out,1)\n",
    "        out = self.dropout(F.relu(self.fc1(out)))\n",
    "        out = self.dropout(F.relu(self.fc2(out)))\n",
    "        out = self.fc3(out)\n",
    "        return out"
   ]
  },
  {
   "cell_type": "code",
   "execution_count": 60,
   "id": "cf6d0389-2293-4094-9568-dedbe2a07e01",
   "metadata": {
    "tags": []
   },
   "outputs": [
    {
     "name": "stdout",
     "output_type": "stream",
     "text": [
      "Files already downloaded and verified\n"
     ]
    }
   ],
   "source": [
    "#Load Dataset(CIFAR10)\n",
    "\n",
    "BatchSize=128\n",
    "transform = transforms.Compose([transforms.ToTensor(),transforms.Normalize((0.5,0.5,0.5),(0.5,0.5,0.5))])\n",
    "\n",
    "train = torchvision.datasets.CIFAR10(root='./', train=True, download=True, transform=transform) \n",
    "test = torchvision.datasets.CIFAR10(root='./', train=False, download=False, transform=transform)\n",
    "\n",
    "split=0.8\n",
    "train_size=int(len(train)*split)\n",
    "traindata, valdata = data.random_split(train, [train_size, len(train)-train_size])\n",
    "#traindata, valdata = train_test_split(train, test_size = 0.2, random_state = 111)\n",
    "\n",
    "trainLoader = data.DataLoader(traindata, batch_size=BatchSize, shuffle=True, num_workers=2)\n",
    "validLoader = data.DataLoader(valdata, batch_size=BatchSize, shuffle=True,num_workers=2)\n",
    "testLoader = data.DataLoader(test, batch_size=BatchSize, shuffle=False, num_workers=2)"
   ]
  },
  {
   "cell_type": "code",
   "execution_count": 61,
   "id": "afecf344-3751-4670-99df-be31120e1149",
   "metadata": {
    "tags": []
   },
   "outputs": [
    {
     "name": "stdout",
     "output_type": "stream",
     "text": [
      "cuda:0 is available!\n",
      "\n",
      "net(\n",
      "  (conv1): Conv2d(3, 6, kernel_size=(5, 5), stride=(1, 1))\n",
      "  (bn1): BatchNorm2d(6, eps=1e-05, momentum=0.1, affine=True, track_running_stats=True)\n",
      "  (conv2): Conv2d(6, 16, kernel_size=(5, 5), stride=(1, 1))\n",
      "  (bn2): BatchNorm2d(16, eps=1e-05, momentum=0.1, affine=True, track_running_stats=True)\n",
      "  (pool): MaxPool2d(kernel_size=2, stride=2, padding=0, dilation=1, ceil_mode=False)\n",
      "  (fc1): Linear(in_features=400, out_features=128, bias=True)\n",
      "  (fc2): Linear(in_features=128, out_features=64, bias=True)\n",
      "  (fc3): Linear(in_features=64, out_features=10, bias=True)\n",
      "  (dropout): Dropout(p=0.1, inplace=False)\n",
      ")\n"
     ]
    }
   ],
   "source": [
    "# Parameters\n",
    "\n",
    "device ='cuda:0' if torch.cuda.is_available() else 'cpu' #check cuda\n",
    "print(device,'is available!\\n')\n",
    "model = net().to(device)\n",
    "print(model)\n",
    "for p in model.parameters():\n",
    "    if p.dim() > 1:\n",
    "        nn.init.xavier_uniform_(p)\n",
    "\n",
    "optimizer = optim.Adam(model.parameters(),betas=(0.9, 0.98), lr=0.0001)\n",
    "scheduler=lr_scheduler.CosineAnnealingLR(optimizer,5)\n",
    "criterion= nn.CrossEntropyLoss(label_smoothing=0.1)#train loss\n",
    "criterion1 = nn.CrossEntropyLoss()#valid loss\n"
   ]
  },
  {
   "cell_type": "code",
   "execution_count": 65,
   "id": "af3a69d9-ca7b-442e-8c39-017d23d8db21",
   "metadata": {
    "tags": []
   },
   "outputs": [
    {
     "name": "stderr",
     "output_type": "stream",
     "text": [
      "2023/08/31 03:08:10 WARNING mlflow.utils.requirements_utils: Found torch version (1.13.1+cu116) contains a local version label (+cu116). MLflow logged a pip requirement for this package as 'torch==1.13.1' without the local version label to make it installable from PyPI. To specify pip requirements containing local version labels, please use `conda_env` or `pip_requirements`.\n",
      "2023/08/31 03:08:14 WARNING mlflow.utils.requirements_utils: Found torch version (1.13.1+cu116) contains a local version label (+cu116). MLflow logged a pip requirement for this package as 'torch==1.13.1' without the local version label to make it installable from PyPI. To specify pip requirements containing local version labels, please use `conda_env` or `pip_requirements`.\n",
      "Registered model 'cifar-10' already exists. Creating a new version of this model...\n",
      "2023/08/31 03:08:14 INFO mlflow.tracking._model_registry.client: Waiting up to 300 seconds for model version to finish creation. Model name: cifar-10, version 5\n",
      "Created version '5' of model 'cifar-10'.\n"
     ]
    },
    {
     "name": "stdout",
     "output_type": "stream",
     "text": [
      "<ModelVersion: aliases=[], creation_timestamp=1693451291711, current_stage='None', description='', last_updated_timestamp=1693451291711, name='cifar-10', run_id='0af62aca6e91462f99b84a8ed9c14ec2', run_link='', source='mlflow-artifacts:/12/0af62aca6e91462f99b84a8ed9c14ec2/artifacts/model-test', status='READY', status_message='', tags={}, user_id='', version='5'>\n",
      "Finished Training\n"
     ]
    },
    {
     "data": {
      "image/png": "[encoded data removed]",
      "text/plain": [
       "<Figure size 640x480 with 1 Axes>"
      ]
     },
     "metadata": {},
     "output_type": "display_data"
    },
    {
     "data": {
      "image/png": "[encoded data removed]",
      "text/plain": [
       "<Figure size 640x480 with 1 Axes>"
      ]
     },
     "metadata": {},
     "output_type": "display_data"
    }
   ],
   "source": [
    "# Training\n",
    "#store loss inf\n",
    "loss={'train_loss':[],'valid_loss':[],'lr':[]}        \n",
    "\n",
    "#early_stopping\n",
    "patience=5\n",
    "earlystop=0\n",
    "best_loss=float('inf')\n",
    "epochs = 5\n",
    "\n",
    "myflow_info={\n",
    "    \"exp_name\": \"cifar-test1\",\n",
    "}\n",
    "\n",
    "# mlflow set url\n",
    "mlflow.set_tracking_uri(\"http://mlflow-web:5000/\")\n",
    "\n",
    "if not mlflow.get_experiment_by_name(myflow_info[\"exp_name\"]):\n",
    "    mlflow.create_experiment(myflow_info[\"exp_name\"])\n",
    "\n",
    "mlflow.set_experiment(myflow_info[\"exp_name\"])\n",
    "\n",
    "\n",
    "with mlflow.start_run() as run:\n",
    "    # para\n",
    "    mlflow.log_param(\"Batch Size\", \"128\")\n",
    "    mlflow.log_param(\"data split\", \"80/10/10\")\n",
    "    mlflow.log_param(\"gpu\", \"enabled\")\n",
    "    mlflow.log_param(\"epoch\",\"100\")\n",
    "    mlflow.log_param(\"optimizer\", \"Adam\")\n",
    "    mlflow.log_param(\"init_lr\", \"0.0001\")\n",
    "    mlflow.log_param(\"scheduler\", \"CosineAnnealingLR\")\n",
    "    mlflow.log_param(\"scheduler.step\", \"5\")\n",
    "    mlflow.log_param(\"loss function\", \"CrossEntropyLoss\")\n",
    "\n",
    "    for epoch in range(epochs):\n",
    "        #model train\n",
    "        model.train()\n",
    "        tmp=[]\n",
    "        with tqdm(trainLoader,leave=False) as tepoch:\n",
    "            for inputs, target in tepoch:\n",
    "                #set tqdm description\n",
    "                tepoch.set_description(f'TrainEpoch{epoch+1:3d}')\n",
    "                inputs, target=inputs.to(device), target.to(device)\n",
    "                # Zero the parameter gradients\n",
    "                optimizer.zero_grad()\n",
    "                output = model(inputs)\n",
    "                crit = criterion(output, target)\n",
    "\n",
    "                tmp.append(crit.cpu().item())\n",
    "\n",
    "                crit.backward()\n",
    "                optimizer.step()\n",
    "                \n",
    "                tepoch.set_postfix({'loss':'{0:.3f}'.format(np.average(tmp))})\n",
    "                \n",
    "                \n",
    "            \n",
    "        scheduler.step()\n",
    "        mlflow.log_metric(\"train_loss\", np.average(tmp), epoch+1)\n",
    "        loss['train_loss'].append(np.average(tmp))\n",
    "        #model valid\n",
    "        model.eval()\n",
    "        tmp=[]\n",
    "        with tqdm(validLoader,leave=False) as vepoch:\n",
    "            for inputs, target in vepoch:\n",
    "                vepoch.set_description(f'ValidEpoch{epoch+1:3d}')\n",
    "                inputs,target=inputs.to(device), target.to(device)\n",
    "\n",
    "                output=model(inputs)\n",
    "                crit=criterion1(output,target)\n",
    "\n",
    "                tmp.append(crit.cpu().item())\n",
    "                vepoch.set_postfix({'loss':'{0:.3f}'.format(np.average(tmp))})\n",
    "\n",
    "        \n",
    "\n",
    "        loss['valid_loss'].append(np.average(tmp))\n",
    "        loss['lr'].append(scheduler.get_last_lr())\n",
    "        mlflow.log_metric(\"valid_loss\", np.average(tmp), epoch+1)\n",
    "        mlflow.log_metric(\"learning_rate\", scheduler.get_last_lr()[0], epoch+1)\n",
    "        # earlystopping\n",
    "        cur_loss=np.average(tmp)\n",
    "        if cur_loss>best_loss:\n",
    "            earlystop+=1\n",
    "            if earlystop>= patience:\n",
    "                print('Early stopping!')\n",
    "                break\n",
    "        else:\n",
    "            earlystop=0\n",
    "            best_loss=cur_loss\n",
    "        \n",
    "    mlflow.pytorch.log_model(model, \"pytorch-model\")\n",
    "    model_uri = f\"runs:/{run.info.run_id}/model-test\"\n",
    "    model_details = mlflow.register_model(model_uri, 'cifar-10')\n",
    "    mlflow.log_param(\"model save\", model_details.source)\n",
    "    #print(model_details)\n",
    "        \n",
    "print('Finished Training')\n",
    "\n",
    "#plot training loss and valid loss\n",
    "\n",
    "plt.plot(loss['train_loss'])\n",
    "plt.plot(loss['valid_loss'],color='r')\n",
    "plt.xlabel('Epoch', fontsize=18)\n",
    "plt.ylabel('Loss', fontsize=18)\n",
    "plt.legend([\"Train Loss\", \"Valid Loss\"],fontsize=12)\n",
    "plt.show()\n",
    "\n",
    "#plot lr\n",
    "\n",
    "plt.plot(loss['lr'])\n",
    "plt.xlabel('Epoch', fontsize=18)\n",
    "plt.ylabel('Learining Rate', fontsize=18)\n",
    "plt.show()"
   ]
  },
  {
   "cell_type": "code",
   "execution_count": 66,
   "id": "90a5927a-c458-4827-8b62-2b202a4edeb0",
   "metadata": {
    "tags": []
   },
   "outputs": [
    {
     "name": "stderr",
     "output_type": "stream",
     "text": [
      "100%|██████████| 79/79 [00:01<00:00, 63.73it/s]"
     ]
    },
    {
     "name": "stdout",
     "output_type": "stream",
     "text": [
      "Accuracy of   Airplane : 56 %\n",
      "Accuracy of Automobile : 57 %\n",
      "Accuracy of       Bird : 17 %\n",
      "Accuracy of        Cat : 28 %\n",
      "Accuracy of       Deer : 41 %\n",
      "Accuracy of        Dog : 39 %\n",
      "Accuracy of       Frog : 58 %\n",
      "Accuracy of      Horse : 55 %\n",
      "Accuracy of       Ship : 55 %\n",
      "Accuracy of      Truck : 46 %\n",
      "\n",
      "Test Dataset : 45 %\n"
     ]
    },
    {
     "name": "stderr",
     "output_type": "stream",
     "text": [
      "\n"
     ]
    }
   ],
   "source": [
    "#https://www.cs.toronto.edu/~kriz/cifar.html\n",
    "#CIFAR-10 Class {airplane, automobile, bird, cat, deer, dog, frog, horse, ship, truck}\n",
    "# Testing\n",
    "\n",
    "test_acc={}\n",
    "classes = ['Airplane', 'Automobile', 'Bird', 'Cat', 'Deer', 'Dog', 'Frog', 'Horse', 'Ship', 'Truck']\n",
    "# Test\n",
    "correct = 0\n",
    "total = 0\n",
    "\n",
    "model.eval()\n",
    "with tqdm(testLoader,leave=True) as tepoch:\n",
    "    for inputs, labels in tepoch:\n",
    "        inputs, labels= inputs.to(device), labels.to(device)\n",
    "        output=model(inputs)\n",
    "        _, predicted = torch.max(output,1)\n",
    "        total+=labels.size(0)\n",
    "        correct += (predicted == labels).sum().item()\n",
    "        c=(predicted==labels).squeeze()\n",
    "\n",
    "        for i in range(labels.size(0)):\n",
    "            label=labels[i].item()\n",
    "            if label not in test_acc:\n",
    "                test_acc[label]=[0,0]\n",
    "            else:\n",
    "                test_acc[label][0]+=c[i].item()\n",
    "                test_acc[label][1]+=1\n",
    "\n",
    "\n",
    "\n",
    "\n",
    "for i in range(len(classes)):\n",
    "    print('Accuracy of %10s : %2d %%' % (classes[i], 100 * test_acc[i][0] / test_acc[i][1]))\n",
    "print()\n",
    "print('Test Dataset : %d %%' % (100 * correct / total))"
   ]
  },
  {
   "cell_type": "code",
   "execution_count": null,
   "id": "acfceba4-87b7-40aa-8278-3b7c3a468a40",
   "metadata": {},
   "outputs": [],
   "source": []
  }
 ],
 "metadata": {
  "kernelspec": {
   "display_name": "Python 3 (ipykernel)",
   "language": "python",
   "name": "python3"
  },
  "language_info": {
   "codemirror_mode": {
    "name": "ipython",
    "version": 3
   },
   "file_extension": ".py",
   "mimetype": "text/x-python",
   "name": "python",
   "nbconvert_exporter": "python",
   "pygments_lexer": "ipython3",
   "version": "3.10.10"
  }
 },
 "nbformat": 4,
 "nbformat_minor": 5
}
