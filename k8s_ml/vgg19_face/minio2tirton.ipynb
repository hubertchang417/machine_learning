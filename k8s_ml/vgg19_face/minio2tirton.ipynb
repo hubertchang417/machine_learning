{
 "cells": [
  {
   "cell_type": "code",
   "execution_count": null,
   "id": "0dfc161f-b68f-440c-b9a6-8b6f43315010",
   "metadata": {},
   "outputs": [
    {
     "name": "stdout",
     "output_type": "stream",
     "text": [
      "Defaulting to user installation because normal site-packages is not writeable\n",
      "Looking in indexes: https://pypi.org/simple, https://pypi.ngc.nvidia.com\n",
      "Requirement already satisfied: minio in /usr/local/lib/python3.8/dist-packages (7.1.16)\n",
      "Requirement already satisfied: certifi in /usr/lib/python3/dist-packages (from minio) (2019.11.28)\n",
      "Requirement already satisfied: urllib3 in /home/jovyan/.local/lib/python3.8/site-packages (from minio) (1.26.16)\n",
      "Bucket mybucket is existed !\n"
     ]
    }
   ],
   "source": [
    "! pip install minio\n",
    "from minio import Minio\n",
    "\n",
    "#prepare config.pbtxt\n",
    "content = \"\"\"name: \"vgg19_face\"\n",
    "platform: \"pytorch_libtorch\"\n",
    "max_batch_size : 0\n",
    "input [\n",
    "  {\n",
    "    name: \"input__0\"\n",
    "    data_type: TYPE_FP32\n",
    "    dims: [ 3, 224, 224 ]\n",
    "    reshape { shape: [ 1, 3, 224, 224 ] }\n",
    "  }\n",
    "]\n",
    "output [\n",
    "  {\n",
    "    name: \"output__0\"\n",
    "    data_type: TYPE_FP32\n",
    "    dims: [ 1, 2 ]\n",
    "  }\n",
    "]\n",
    "\"\"\"\n",
    "\n",
    "file_path = \"config.pbtxt\"\n",
    "with open(file_path, \"w\") as file:\n",
    "    file.write(content)\n",
    "\n",
    "# minio info ()\n",
    "minio_info = {'url': 'minio-api:9000',\n",
    "              'accessKey': 'admin',\n",
    "              'secretKey': 'admin123',\n",
    "              'bucket': 'mybucket', }\n",
    "\n",
    "\n",
    "#model info\n",
    "model_info = {'name': 'vgg19_face',\n",
    "              'version': '2', }\n",
    "              \n",
    "              \n",
    "\n",
    "# minio config\n",
    "clinet = Minio(\n",
    "    minio_info['url'],\n",
    "    access_key = minio_info['accessKey'],\n",
    "    secret_key = minio_info['secretKey'],\n",
    "    secure = False\n",
    ")\n",
    "\n",
    "#found = clinet.bucket_exists(bucket_name)\n",
    "found = clinet.bucket_exists(minio_info['bucket'])\n",
    "if not found:\n",
    "    print(f\"no {minio_info['bucket']} in {minio_info['url']}\")\n",
    "\n",
    "else:\n",
    "    print(f\"Bucket {minio_info['bucket']} is existed !\")\n",
    "\n",
    "    \n",
    "    \n",
    "    #store model.onnx\n",
    "    store_path = f\"{model_info['name']}/{model_info['version']}/model.pt\"\n",
    "    clinet.fput_object(\n",
    "        minio_info['bucket'], store_path, 'model.pt'\n",
    "    )\n",
    "    # store config.pbtxt\n",
    "    store_path = f\"{model_info['name']}/config.pbtxt\"\n",
    "    clinet.fput_object(\n",
    "        minio_info['bucket'], store_path, 'config.pbtxt'\n",
    "    )"
   ]
  },
  {
   "cell_type": "code",
   "execution_count": null,
   "id": "b11bd727-1edf-4efd-b0fd-c52712c1ba3a",
   "metadata": {},
   "outputs": [],
   "source": []
  }
 ],
 "metadata": {
  "kernelspec": {
   "display_name": "Python 3 (ipykernel)",
   "language": "python",
   "name": "python3"
  },
  "language_info": {
   "codemirror_mode": {
    "name": "ipython",
    "version": 3
   },
   "file_extension": ".py",
   "mimetype": "text/x-python",
   "name": "python",
   "nbconvert_exporter": "python",
   "pygments_lexer": "ipython3",
   "version": "3.8.10"
  }
 },
 "nbformat": 4,
 "nbformat_minor": 5
}
